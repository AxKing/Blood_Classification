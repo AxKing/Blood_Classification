{
 "cells": [
  {
   "cell_type": "markdown",
   "id": "130c8556",
   "metadata": {},
   "source": [
    "# White Blood Cell Image Classification\n",
    "### By [Anthony Medina](https://www.linkedin.com/in/anthony-medina-math/)\n",
    "\n",
    "# Modeling Notebook\n",
    "1. Notebook Objectives\n",
    "2. Imports\n",
    "3. Final Pre-Building Checks\n",
    "4. Model 1 Neural Network\n",
    "5. Model 2 Random Forest\n",
    "6. Model 3 Gradient Boosting Machine\n",
    "7. Model results analysis\n",
    "8. Model Choice\n",
    "9. Next Steps"
   ]
  },
  {
   "cell_type": "markdown",
   "id": "ea7ab778",
   "metadata": {},
   "source": [
    "### 1. Notebook Objectives"
   ]
  },
  {
   "cell_type": "markdown",
   "id": "6b07f8c1",
   "metadata": {},
   "source": [
    "This notebook will house the model building, evaluation of each model, and picking the model with best Recall score."
   ]
  },
  {
   "cell_type": "markdown",
   "id": "6fcaa299",
   "metadata": {},
   "source": [
    "### 2. Imports"
   ]
  },
  {
   "cell_type": "code",
   "execution_count": 17,
   "id": "1bfb6a69",
   "metadata": {},
   "outputs": [],
   "source": [
    "import numpy as np\n",
    "import pandas as pd\n",
    "import tensorflow as tf\n",
    "import seaborn as sns\n",
    "import matplotlib.pyplot as plt\n",
    "import os\n",
    "import matplotlib.image as mpimg\n",
    "from sklearn.model_selection import train_test_split, GridSearchCV, KFold\n",
    "from sklearn.preprocessing import StandardScaler\n",
    "from sklearn.metrics import make_scorer, recall_score, confusion_matrix\n",
    "from tensorflow.keras.models import Sequential\n",
    "from tensorflow.keras.layers import Dense, Flatten, Conv2D\n",
    "from tensorflow.keras.callbacks import EarlyStopping\n",
    "from sklearn.ensemble import RandomForestClassifier\n",
    "from sklearn.ensemble import GradientBoostingClassifier\n",
    "from tensorflow.keras.wrappers.scikit_learn import KerasClassifier"
   ]
  },
  {
   "cell_type": "code",
   "execution_count": 5,
   "id": "413a171b",
   "metadata": {},
   "outputs": [
    {
     "data": {
      "text/html": [
       "<div>\n",
       "<style scoped>\n",
       "    .dataframe tbody tr th:only-of-type {\n",
       "        vertical-align: middle;\n",
       "    }\n",
       "\n",
       "    .dataframe tbody tr th {\n",
       "        vertical-align: top;\n",
       "    }\n",
       "\n",
       "    .dataframe thead th {\n",
       "        text-align: right;\n",
       "    }\n",
       "</style>\n",
       "<table border=\"1\" class=\"dataframe\">\n",
       "  <thead>\n",
       "    <tr style=\"text-align: right;\">\n",
       "      <th></th>\n",
       "      <th>cell_key</th>\n",
       "      <th>image_array</th>\n",
       "    </tr>\n",
       "  </thead>\n",
       "  <tbody>\n",
       "    <tr>\n",
       "      <th>0</th>\n",
       "      <td>0</td>\n",
       "      <td>[0.01176471 0.         0.         ... 0.      ...</td>\n",
       "    </tr>\n",
       "    <tr>\n",
       "      <th>1</th>\n",
       "      <td>0</td>\n",
       "      <td>[0.         0.         0.         ... 0.760784...</td>\n",
       "    </tr>\n",
       "    <tr>\n",
       "      <th>2</th>\n",
       "      <td>0</td>\n",
       "      <td>[0. 0. 0. ... 0. 0. 0.]</td>\n",
       "    </tr>\n",
       "    <tr>\n",
       "      <th>3</th>\n",
       "      <td>0</td>\n",
       "      <td>[0.         0.         0.         ... 0.764705...</td>\n",
       "    </tr>\n",
       "    <tr>\n",
       "      <th>4</th>\n",
       "      <td>0</td>\n",
       "      <td>[0. 0. 0. ... 0. 0. 0.]</td>\n",
       "    </tr>\n",
       "  </tbody>\n",
       "</table>\n",
       "</div>"
      ],
      "text/plain": [
       "   cell_key                                        image_array\n",
       "0         0  [0.01176471 0.         0.         ... 0.      ...\n",
       "1         0  [0.         0.         0.         ... 0.760784...\n",
       "2         0                            [0. 0. 0. ... 0. 0. 0.]\n",
       "3         0  [0.         0.         0.         ... 0.764705...\n",
       "4         0                            [0. 0. 0. ... 0. 0. 0.]"
      ]
     },
     "execution_count": 5,
     "metadata": {},
     "output_type": "execute_result"
    }
   ],
   "source": [
    "df = pd.read_csv('../cleaned_data/cleaned_data.csv')\n",
    "df.head()"
   ]
  },
  {
   "cell_type": "code",
   "execution_count": 6,
   "id": "cf1c9cb5",
   "metadata": {},
   "outputs": [
    {
     "data": {
      "text/plain": [
       "cell_key        int64\n",
       "image_array    object\n",
       "dtype: object"
      ]
     },
     "execution_count": 6,
     "metadata": {},
     "output_type": "execute_result"
    }
   ],
   "source": [
    "df.dtypes"
   ]
  },
  {
   "cell_type": "code",
   "execution_count": 39,
   "id": "dd3efd58",
   "metadata": {},
   "outputs": [],
   "source": [
    "# df['image_array'] = df['image_array'].apply(lambda x: np.fromstring(x[1:-1], sep='\\n'))"
   ]
  },
  {
   "cell_type": "code",
   "execution_count": 44,
   "id": "eadeaa2a",
   "metadata": {},
   "outputs": [
    {
     "name": "stdout",
     "output_type": "stream",
     "text": [
      "0 neutrophil\n",
      "1 monocyte\n",
      "2 lymphocyte\n",
      "3 eosinophil\n"
     ]
    }
   ],
   "source": [
    "# I added this block because importing my clean data was a nightmare.\n",
    "# New Array that will contain the final values I need to save for modeling.\n",
    "#import cv2\n",
    "\n",
    "column_names = ['cell_name', 'image_array']\n",
    "\n",
    "# Create a blank DataFrame with column names\n",
    "df = pd.DataFrame(columns=column_names)\n",
    "\n",
    "# Populating the data frame from the 4 different types of images\n",
    "cell_names = ['neutrophil', 'monocyte', 'lymphocyte', 'eosinophil']\n",
    "\n",
    "images = []\n",
    "labels = []\n",
    "for index, cell_name in enumerate(cell_names):\n",
    "    print(index, cell_name)\n",
    "    directory_path = '../raw_data/organized_data_set/images/' + cell_name\n",
    "    count = 0\n",
    "    for filename in os.listdir(directory_path):\n",
    "        if count < 100:\n",
    "            count +=1\n",
    "            if os.path.isfile(os.path.join(directory_path, filename)):\n",
    "                file_path = os.path.abspath(os.path.join(directory_path, filename))\n",
    "    #            print(file_path)\n",
    "                image = mpimg.imread(file_path) # First it's an image\n",
    "    #            image = cv2.imread(file_path)\n",
    "                first_array = np.array(image) # Then it's an array\n",
    "    #            reshaped_array = first_array.flatten() # Now it's a flat array\n",
    "                float_array = first_array.astype('float32') # Now it's an array of floats\n",
    "                rescaled_array = float_array / 255.0 # Rescaling the float\n",
    "                new_entry = {\"cell_name\": cell_name, 'image_array': rescaled_array}\n",
    "                df.loc[len(df)] = new_entry\n",
    "                images.append(image)\n",
    "                labels.append(cell_name)\n",
    "                \n",
    "                \n",
    "X = np.array(images)\n",
    "y = np.array(labels)"
   ]
  },
  {
   "cell_type": "code",
   "execution_count": 45,
   "id": "fa593676-5dbe-4b3e-b87d-0a92a7f00538",
   "metadata": {},
   "outputs": [],
   "source": [
    "from sklearn.preprocessing import LabelEncoder\n",
    "\n",
    "encoder = LabelEncoder()\n",
    "y_encoded = encoder.fit_transform(y)"
   ]
  },
  {
   "cell_type": "code",
   "execution_count": 46,
   "id": "56acf288-b0d4-4cec-90e3-bb6b82e18cec",
   "metadata": {},
   "outputs": [],
   "source": [
    "from sklearn.model_selection import train_test_split\n",
    "\n",
    "X_train, X_test, y_train, y_test = train_test_split(X, y_encoded, test_size=0.2, random_state=42)"
   ]
  },
  {
   "cell_type": "code",
   "execution_count": 48,
   "id": "fb716818-b92b-4171-b39a-024efbadbf80",
   "metadata": {},
   "outputs": [
    {
     "name": "stdout",
     "output_type": "stream",
     "text": [
      "Train on 256 samples, validate on 64 samples\n",
      "Epoch 1/10\n",
      "256/256 [==============================] - 8s 33ms/sample - loss: 24432.5091 - accuracy: 0.2656 - val_loss: 4736.0605 - val_accuracy: 0.2656\n",
      "Epoch 2/10\n",
      "256/256 [==============================] - 8s 33ms/sample - loss: 5037.6260 - accuracy: 0.2617 - val_loss: 1795.3708 - val_accuracy: 0.2031\n",
      "Epoch 3/10\n",
      "256/256 [==============================] - 9s 35ms/sample - loss: 1332.2933 - accuracy: 0.3047 - val_loss: 741.1485 - val_accuracy: 0.2812\n",
      "Epoch 4/10\n",
      "256/256 [==============================] - 8s 32ms/sample - loss: 469.2148 - accuracy: 0.3555 - val_loss: 441.0879 - val_accuracy: 0.2656\n",
      "Epoch 5/10\n",
      "256/256 [==============================] - 8s 32ms/sample - loss: 172.1910 - accuracy: 0.5039 - val_loss: 146.4587 - val_accuracy: 0.2812\n",
      "Epoch 6/10\n",
      "256/256 [==============================] - 8s 33ms/sample - loss: 40.2652 - accuracy: 0.6992 - val_loss: 142.4714 - val_accuracy: 0.2344\n",
      "Epoch 7/10\n",
      "256/256 [==============================] - 8s 31ms/sample - loss: 15.4502 - accuracy: 0.8047 - val_loss: 88.8184 - val_accuracy: 0.2656\n",
      "Epoch 8/10\n",
      "256/256 [==============================] - 8s 33ms/sample - loss: 0.3678 - accuracy: 0.9844 - val_loss: 71.8387 - val_accuracy: 0.2188\n",
      "Epoch 9/10\n",
      "256/256 [==============================] - 8s 31ms/sample - loss: 0.1248 - accuracy: 0.9883 - val_loss: 70.6016 - val_accuracy: 0.2344\n",
      "Epoch 10/10\n",
      "256/256 [==============================] - 8s 30ms/sample - loss: 0.0156 - accuracy: 0.9922 - val_loss: 70.7221 - val_accuracy: 0.2500\n"
     ]
    },
    {
     "data": {
      "text/plain": [
       "<tensorflow.python.keras.callbacks.History at 0x16f3733d588>"
      ]
     },
     "execution_count": 48,
     "metadata": {},
     "output_type": "execute_result"
    }
   ],
   "source": [
    "def create_model():\n",
    "    model = Sequential()\n",
    "    model.add(Conv2D(32, (3, 3), activation='relu', input_shape=(240, 320, 3)))\n",
    "    model.add(MaxPooling2D((2, 2)))\n",
    "    model.add(Flatten())\n",
    "    model.add(Dense(64, activation='relu'))\n",
    "    model.add(Dense(len(set(y_encoded)), activation='softmax'))  # Number of classes\n",
    "    \n",
    "    model.compile(optimizer='adam', loss='sparse_categorical_crossentropy', metrics=['accuracy'])\n",
    "    \n",
    "    return model\n",
    "\n",
    "model = create_model()\n",
    "model.fit(X_train, y_train, epochs=10, batch_size=32, validation_split=0.2)"
   ]
  },
  {
   "cell_type": "code",
   "execution_count": 1,
   "id": "2bc7d3f5",
   "metadata": {},
   "outputs": [
    {
     "ename": "NameError",
     "evalue": "name 'model' is not defined",
     "output_type": "error",
     "traceback": [
      "\u001b[0;31m---------------------------------------------------------------------------\u001b[0m",
      "\u001b[0;31mNameError\u001b[0m                                 Traceback (most recent call last)",
      "Cell \u001b[0;32mIn[1], line 1\u001b[0m\n\u001b[0;32m----> 1\u001b[0m loss, accuracy \u001b[38;5;241m=\u001b[39m \u001b[43mmodel\u001b[49m\u001b[38;5;241m.\u001b[39mevaluate(X_test, y_test)\n\u001b[1;32m      2\u001b[0m \u001b[38;5;28mprint\u001b[39m(\u001b[38;5;124mf\u001b[39m\u001b[38;5;124m\"\u001b[39m\u001b[38;5;124mTest loss: \u001b[39m\u001b[38;5;132;01m{\u001b[39;00mloss\u001b[38;5;132;01m}\u001b[39;00m\u001b[38;5;124m, Test accuracy: \u001b[39m\u001b[38;5;132;01m{\u001b[39;00mrecall\u001b[38;5;132;01m}\u001b[39;00m\u001b[38;5;124m\"\u001b[39m)\n",
      "\u001b[0;31mNameError\u001b[0m: name 'model' is not defined"
     ]
    }
   ],
   "source": [
    "loss, accuracy = model.evaluate(X_test, y_test)\n",
    "print(f\"Test loss: {loss}, Test accuracy: {recall}\")"
   ]
  },
  {
   "cell_type": "code",
   "execution_count": null,
   "id": "11f46a04-689e-46b6-9b5c-53a7bb66ac70",
   "metadata": {},
   "outputs": [],
   "source": []
  }
 ],
 "metadata": {
  "kernelspec": {
   "display_name": "Python 3 (ipykernel)",
   "language": "python",
   "name": "python3"
  },
  "language_info": {
   "codemirror_mode": {
    "name": "ipython",
    "version": 3
   },
   "file_extension": ".py",
   "mimetype": "text/x-python",
   "name": "python",
   "nbconvert_exporter": "python",
   "pygments_lexer": "ipython3",
   "version": "3.9.12"
  }
 },
 "nbformat": 4,
 "nbformat_minor": 5
}

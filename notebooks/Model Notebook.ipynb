{
 "cells": [
  {
   "cell_type": "markdown",
   "id": "130c8556",
   "metadata": {},
   "source": [
    "# White Blood Cell Image Classification\n",
    "### By [Anthony Medina](https://www.linkedin.com/in/anthony-medina-math/)\n",
    "\n",
    "# Modeling Notebook\n",
    "1. Notebook Objectives\n",
    "2. Imports\n",
    "3. Final Pre-Building Checks\n",
    "4. Model 1 Neural Network\n",
    "5. Model 2 Random Forest\n",
    "6. Model 3 Gradient Boosting Machine\n",
    "7. Model results analysis\n",
    "8. Model Choice\n",
    "9. Next Steps"
   ]
  },
  {
   "cell_type": "markdown",
   "id": "ea7ab778",
   "metadata": {},
   "source": [
    "### 1. Notebook Objectives"
   ]
  },
  {
   "cell_type": "markdown",
   "id": "6b07f8c1",
   "metadata": {},
   "source": [
    "This notebook will house the model building, evaluation of each model, and picking the model with best Recall score."
   ]
  },
  {
   "cell_type": "markdown",
   "id": "6fcaa299",
   "metadata": {},
   "source": [
    "### 2. Imports"
   ]
  },
  {
   "cell_type": "code",
   "execution_count": 1,
   "id": "1bfb6a69",
   "metadata": {},
   "outputs": [
    {
     "name": "stderr",
     "output_type": "stream",
     "text": [
      "2023-08-27 19:54:36.220009: I tensorflow/core/platform/cpu_feature_guard.cc:193] This TensorFlow binary is optimized with oneAPI Deep Neural Network Library (oneDNN) to use the following CPU instructions in performance-critical operations:  SSE4.1 SSE4.2 AVX AVX2 FMA\n",
      "To enable them in other operations, rebuild TensorFlow with the appropriate compiler flags.\n"
     ]
    }
   ],
   "source": [
    "import numpy as np\n",
    "import pandas as pd\n",
    "import tensorflow as tf\n",
    "from sklearn.model_selection import train_test_split, GridSearchCV\n",
    "from sklearn.preprocessing import StandardScaler\n",
    "from sklearn.metrics import make_scorer, recall_score\n",
    "from tensorflow.keras.models import Sequential\n",
    "from tensorflow.keras.layers import Dense\n",
    "from tensorflow.keras.callbacks import EarlyStopping\n",
    "from sklearn.ensemble import RandomForestClassifier\n",
    "from sklearn.ensemble import GradientBoostingClassifier\n",
    "from tensorflow.keras.wrappers.scikit_learn import KerasClassifier"
   ]
  },
  {
   "cell_type": "code",
   "execution_count": 2,
   "id": "413a171b",
   "metadata": {},
   "outputs": [
    {
     "data": {
      "text/html": [
       "<div>\n",
       "<style scoped>\n",
       "    .dataframe tbody tr th:only-of-type {\n",
       "        vertical-align: middle;\n",
       "    }\n",
       "\n",
       "    .dataframe tbody tr th {\n",
       "        vertical-align: top;\n",
       "    }\n",
       "\n",
       "    .dataframe thead th {\n",
       "        text-align: right;\n",
       "    }\n",
       "</style>\n",
       "<table border=\"1\" class=\"dataframe\">\n",
       "  <thead>\n",
       "    <tr style=\"text-align: right;\">\n",
       "      <th></th>\n",
       "      <th>cell_key</th>\n",
       "      <th>image_array</th>\n",
       "    </tr>\n",
       "  </thead>\n",
       "  <tbody>\n",
       "    <tr>\n",
       "      <th>0</th>\n",
       "      <td>0</td>\n",
       "      <td>[0.01176471 0.         0.         ... 0.      ...</td>\n",
       "    </tr>\n",
       "    <tr>\n",
       "      <th>1</th>\n",
       "      <td>0</td>\n",
       "      <td>[0.         0.         0.         ... 0.760784...</td>\n",
       "    </tr>\n",
       "    <tr>\n",
       "      <th>2</th>\n",
       "      <td>0</td>\n",
       "      <td>[0. 0. 0. ... 0. 0. 0.]</td>\n",
       "    </tr>\n",
       "    <tr>\n",
       "      <th>3</th>\n",
       "      <td>0</td>\n",
       "      <td>[0.         0.         0.         ... 0.764705...</td>\n",
       "    </tr>\n",
       "    <tr>\n",
       "      <th>4</th>\n",
       "      <td>0</td>\n",
       "      <td>[0. 0. 0. ... 0. 0. 0.]</td>\n",
       "    </tr>\n",
       "  </tbody>\n",
       "</table>\n",
       "</div>"
      ],
      "text/plain": [
       "   cell_key                                        image_array\n",
       "0         0  [0.01176471 0.         0.         ... 0.      ...\n",
       "1         0  [0.         0.         0.         ... 0.760784...\n",
       "2         0                            [0. 0. 0. ... 0. 0. 0.]\n",
       "3         0  [0.         0.         0.         ... 0.764705...\n",
       "4         0                            [0. 0. 0. ... 0. 0. 0.]"
      ]
     },
     "execution_count": 2,
     "metadata": {},
     "output_type": "execute_result"
    }
   ],
   "source": [
    "df = pd.read_csv('../cleaned_data/cleaned_data.csv')\n",
    "df.head()"
   ]
  },
  {
   "cell_type": "code",
   "execution_count": 3,
   "id": "cf1c9cb5",
   "metadata": {},
   "outputs": [
    {
     "data": {
      "text/plain": [
       "cell_key        int64\n",
       "image_array    object\n",
       "dtype: object"
      ]
     },
     "execution_count": 3,
     "metadata": {},
     "output_type": "execute_result"
    }
   ],
   "source": [
    "df.dtypes"
   ]
  },
  {
   "cell_type": "code",
   "execution_count": 4,
   "id": "dd3efd58",
   "metadata": {},
   "outputs": [
    {
     "name": "stderr",
     "output_type": "stream",
     "text": [
      "/var/folders/b0/x4p60r3n3dz3lbgp1_bgg05h0000gn/T/ipykernel_5582/3068472533.py:1: DeprecationWarning: string or file could not be read to its end due to unmatched data; this will raise a ValueError in the future.\n",
      "  df['image_array'] = df['image_array'].apply(lambda x: np.fromstring(x[1:-1], sep=' '))\n"
     ]
    }
   ],
   "source": [
    "df['image_array'] = df['image_array'].apply(lambda x: np.fromstring(x[1:-1], sep=' '))"
   ]
  },
  {
   "cell_type": "code",
   "execution_count": 5,
   "id": "2bc7d3f5",
   "metadata": {},
   "outputs": [
    {
     "data": {
      "text/plain": [
       "cell_key        int64\n",
       "image_array    object\n",
       "dtype: object"
      ]
     },
     "execution_count": 5,
     "metadata": {},
     "output_type": "execute_result"
    }
   ],
   "source": [
    "df.dtypes"
   ]
  },
  {
   "cell_type": "markdown",
   "id": "4aaaeb1f",
   "metadata": {},
   "source": [
    "### 3. Data Split"
   ]
  },
  {
   "cell_type": "code",
   "execution_count": 6,
   "id": "0ec04084",
   "metadata": {},
   "outputs": [],
   "source": [
    "X = np.array(df['image_array'].tolist())\n",
    "y = np.array(df['cell_key'])\n",
    "recall_list = []\n",
    "# Split the data into training and testing sets\n",
    "X_train, X_test, y_train, y_test = train_test_split(X, y, test_size=0.2, random_state=42)"
   ]
  },
  {
   "cell_type": "markdown",
   "id": "aa9d76d6",
   "metadata": {},
   "source": [
    "### 4. Model 1 Neural Network"
   ]
  },
  {
   "cell_type": "code",
   "execution_count": 7,
   "id": "6cd2bf7f",
   "metadata": {},
   "outputs": [
    {
     "name": "stderr",
     "output_type": "stream",
     "text": [
      "/var/folders/b0/x4p60r3n3dz3lbgp1_bgg05h0000gn/T/ipykernel_5582/15097599.py:15: DeprecationWarning: KerasClassifier is deprecated, use Sci-Keras (https://github.com/adriangb/scikeras) instead. See https://www.adriangb.com/scikeras/stable/migration.html for help migrating.\n",
      "  model = KerasClassifier(build_fn=create_model, epochs=10, batch_size=32, verbose=0)\n",
      "2023-08-27 19:54:41.551613: I tensorflow/core/platform/cpu_feature_guard.cc:193] This TensorFlow binary is optimized with oneAPI Deep Neural Network Library (oneDNN) to use the following CPU instructions in performance-critical operations:  SSE4.1 SSE4.2 AVX AVX2 FMA\n",
      "To enable them in other operations, rebuild TensorFlow with the appropriate compiler flags.\n"
     ]
    },
    {
     "name": "stdout",
     "output_type": "stream",
     "text": [
      "104/104 [==============================] - 0s 540us/step\n",
      "104/104 [==============================] - 0s 640us/step\n",
      "104/104 [==============================] - 0s 737us/step\n",
      "104/104 [==============================] - 0s 544us/step\n",
      "104/104 [==============================] - 0s 643us/step\n",
      "104/104 [==============================] - 0s 635us/step\n",
      "104/104 [==============================] - 0s 548us/step\n",
      "104/104 [==============================] - 0s 632us/step\n",
      "104/104 [==============================] - 0s 635us/step\n",
      "104/104 [==============================] - 0s 584us/step\n",
      "104/104 [==============================] - 0s 554us/step\n",
      "104/104 [==============================] - 0s 640us/step\n",
      "104/104 [==============================] - 0s 744us/step\n",
      "104/104 [==============================] - 0s 547us/step\n",
      "104/104 [==============================] - 0s 683us/step\n",
      "104/104 [==============================] - 0s 597us/step\n",
      "104/104 [==============================] - 0s 782us/step\n",
      "104/104 [==============================] - 0s 605us/step\n",
      "78/78 [==============================] - 0s 591us/step\n",
      "Best Parameters: {'batch_size': 32, 'epochs': 50}\n",
      "Test Recall: 0.25190056899622115\n"
     ]
    }
   ],
   "source": [
    "def create_model():\n",
    "    model = Sequential([\n",
    "        Dense(64, activation='relu', input_shape=(num_features,)),\n",
    "        Dense(32, activation='relu'),\n",
    "        Dense(num_classes, activation='softmax')\n",
    "    ])\n",
    "    model.compile(optimizer='adam', loss='categorical_crossentropy', metrics=['accuracy'])\n",
    "    return model\n",
    "\n",
    "# Define constants\n",
    "num_features = X_train.shape[1]\n",
    "num_classes = np.max(y_train) + 1  # Assuming class labels start from 0\n",
    "\n",
    "# Create a KerasClassifier based on the create_model function\n",
    "model = KerasClassifier(build_fn=create_model, epochs=10, batch_size=32, verbose=0)\n",
    "\n",
    "# Define the parameter grid for grid search\n",
    "param_grid = {\n",
    "    'epochs': [10, 20, 50],\n",
    "    'batch_size': [32, 64],\n",
    "}\n",
    "\n",
    "# Define the scoring function (recall)\n",
    "scoring = make_scorer(recall_score, average='macro')\n",
    "\n",
    "# Initialize GridSearchCV\n",
    "grid_search = GridSearchCV(model, param_grid, scoring=scoring, cv=3)\n",
    "\n",
    "# Fit the grid search to your training data\n",
    "grid_search.fit(X_train, y_train)\n",
    "\n",
    "# Get the best parameters and the best estimator from grid search\n",
    "best_params = grid_search.best_params_\n",
    "best_model = grid_search.best_estimator_\n",
    "\n",
    "# Evaluate the best model on your test data\n",
    "y_pred = best_model.predict(X_test)\n",
    "recall = recall_score(y_test, y_pred, average='macro')\n",
    "\n",
    "print(\"Best Parameters:\", best_params)\n",
    "print(\"Test Recall:\", recall)\n",
    "recall_list.append(recall)"
   ]
  },
  {
   "cell_type": "markdown",
   "id": "ecae0208",
   "metadata": {},
   "source": [
    "### 5. Model 2 Random Forest"
   ]
  },
  {
   "cell_type": "code",
   "execution_count": 8,
   "id": "3041d7de",
   "metadata": {},
   "outputs": [
    {
     "name": "stdout",
     "output_type": "stream",
     "text": [
      "Best Parameters: {'max_depth': 10, 'min_samples_leaf': 4, 'min_samples_split': 2, 'n_estimators': 100}\n",
      "Test Recall: 0.2614910008561814\n"
     ]
    }
   ],
   "source": [
    "# Define the Random Forest classifier\n",
    "rf_classifier = RandomForestClassifier(random_state=42)\n",
    "\n",
    "# Define the parameter grid for grid search\n",
    "param_grid = {\n",
    "    'n_estimators': [50, 100, 200],\n",
    "    'max_depth': [None, 10, 20],\n",
    "    'min_samples_split': [2, 5, 10],\n",
    "    'min_samples_leaf': [1, 2, 4]\n",
    "}\n",
    "\n",
    "# Define the scoring function (recall)\n",
    "scoring = make_scorer(recall_score, average='macro')\n",
    "\n",
    "# Initialize GridSearchCV\n",
    "grid_search = GridSearchCV(rf_classifier, param_grid, scoring=scoring, cv=3)\n",
    "\n",
    "# Fit the grid search to your training data\n",
    "grid_search.fit(X_train, y_train)\n",
    "\n",
    "# Get the best parameters and the best estimator from grid search\n",
    "best_params = grid_search.best_params_\n",
    "best_rf = grid_search.best_estimator_\n",
    "\n",
    "# Evaluate the best model on your test data\n",
    "y_pred = best_rf.predict(X_test)\n",
    "recall = recall_score(y_test, y_pred, average='macro')\n",
    "\n",
    "print(\"Best Parameters:\", best_params)\n",
    "print(\"Test Recall:\", recall)\n",
    "recall_list.append(recall)"
   ]
  },
  {
   "cell_type": "markdown",
   "id": "0a09d3f0",
   "metadata": {},
   "source": [
    "### 6. Model 3 Gradient Boosting Machine"
   ]
  },
  {
   "cell_type": "code",
   "execution_count": 9,
   "id": "25d4fcbc",
   "metadata": {},
   "outputs": [
    {
     "name": "stdout",
     "output_type": "stream",
     "text": [
      "Best Parameters: {'learning_rate': 0.2, 'max_depth': 3, 'min_samples_leaf': 1, 'min_samples_split': 2, 'n_estimators': 200}\n",
      "Test Recall: 0.2552132268247596\n"
     ]
    }
   ],
   "source": [
    "# Define the Gradient Boosting classifier\n",
    "gbm_classifier = GradientBoostingClassifier(random_state=42)\n",
    "\n",
    "# Define the parameter grid for grid search\n",
    "param_grid = {\n",
    "    'n_estimators': [50, 100, 200],\n",
    "    'learning_rate': [0.01, 0.1, 0.2],\n",
    "    'max_depth': [3, 4, 5],\n",
    "    'min_samples_split': [2, 5, 10],\n",
    "    'min_samples_leaf': [1, 2, 4],\n",
    "}\n",
    "\n",
    "# Define the scoring function (recall)\n",
    "scoring = make_scorer(recall_score, average='macro')\n",
    "\n",
    "# Initialize GridSearchCV\n",
    "grid_search = GridSearchCV(gbm_classifier, param_grid, scoring=scoring, cv=3)\n",
    "\n",
    "# Fit the grid search to your training data\n",
    "grid_search.fit(X_train, y_train)\n",
    "\n",
    "# Get the best parameters and the best estimator from grid search\n",
    "best_params = grid_search.best_params_\n",
    "best_gbm = grid_search.best_estimator_\n",
    "\n",
    "# Evaluate the best model on your test data\n",
    "y_pred = best_gbm.predict(X_test)\n",
    "recall = recall_score(y_test, y_pred, average='macro')\n",
    "\n",
    "print(\"Best Parameters:\", best_params)\n",
    "print(\"Test Recall:\", recall)\n",
    "recall_list.append(recall)"
   ]
  },
  {
   "cell_type": "markdown",
   "id": "0d22964e",
   "metadata": {},
   "source": [
    "### 7. Model results analysis"
   ]
  },
  {
   "cell_type": "code",
   "execution_count": 10,
   "id": "dc501ab9",
   "metadata": {},
   "outputs": [
    {
     "name": "stdout",
     "output_type": "stream",
     "text": [
      "All Model Scores [0.25190056899622115, 0.2614910008561814, 0.2552132268247596]\n"
     ]
    }
   ],
   "source": [
    "print('All Model Scores', recall_list)"
   ]
  },
  {
   "cell_type": "markdown",
   "id": "6d624191",
   "metadata": {},
   "source": [
    "### 8. Model Choice"
   ]
  },
  {
   "cell_type": "code",
   "execution_count": 13,
   "id": "4fe01226",
   "metadata": {},
   "outputs": [
    {
     "name": "stdout",
     "output_type": "stream",
     "text": [
      "The model with the best score was model number 2 .\n"
     ]
    }
   ],
   "source": [
    "max_index = recall_list.index(max(recall_list))\n",
    "print('The model with the best score was model number', max_index + 1, '.')"
   ]
  },
  {
   "cell_type": "markdown",
   "id": "60a1f6c3",
   "metadata": {},
   "source": [
    "## The best model was the Random Forest."
   ]
  },
  {
   "cell_type": "markdown",
   "id": "1ff028fc",
   "metadata": {},
   "source": [
    "### 9. Next Steps"
   ]
  },
  {
   "cell_type": "markdown",
   "id": "33fe25a4",
   "metadata": {},
   "source": [
    "\n",
    "Create a final model using the best parameters from the random forest model"
   ]
  }
 ],
 "metadata": {
  "kernelspec": {
   "display_name": "Python 3 (ipykernel)",
   "language": "python",
   "name": "python3"
  },
  "language_info": {
   "codemirror_mode": {
    "name": "ipython",
    "version": 3
   },
   "file_extension": ".py",
   "mimetype": "text/x-python",
   "name": "python",
   "nbconvert_exporter": "python",
   "pygments_lexer": "ipython3",
   "version": "3.9.12"
  }
 },
 "nbformat": 4,
 "nbformat_minor": 5
}
